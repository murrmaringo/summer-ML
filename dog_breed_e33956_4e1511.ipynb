{
  "metadata": {
    "kernelspec": {
      "display_name": "Python 3",
      "name": "python3"
    },
    "language_info": {
      "name": "python",
      "version": "3.10.13",
      "mimetype": "text/x-python",
      "codemirror_mode": {
        "name": "ipython",
        "version": 3
      },
      "pygments_lexer": "ipython3",
      "nbconvert_exporter": "python",
      "file_extension": ".py"
    },
    "kaggle": {
      "accelerator": "nvidiaTeslaT4",
      "dataSources": [
        {
          "sourceId": 7327,
          "databundleVersionId": 861871,
          "sourceType": "competition"
        }
      ],
      "dockerImageVersionId": 30648,
      "isInternetEnabled": true,
      "language": "python",
      "sourceType": "notebook",
      "isGpuEnabled": true
    },
    "colab": {
      "provenance": [],
      "gpuType": "T4"
    },
    "accelerator": "GPU"
  },
  "nbformat_minor": 0,
  "nbformat": 4,
  "cells": [
    {
      "cell_type": "code",
      "source": [
        "import numpy as np\n",
        "import pandas as pd\n",
        "import os\n",
        "import zipfile\n",
        "import matplotlib.pyplot as plt\n",
        "import torch\n",
        "from torchvision import datasets, transforms, models\n",
        "from torch import nn, optim\n",
        "from torch.autograd import Variable\n",
        "from torch.utils.data.sampler import SubsetRandomSampler\n",
        "from torch.utils.data import Dataset, DataLoader\n",
        "from PIL import Image\n",
        "from skimage import io, transform\n",
        "import torch.utils.data as data_utils\n",
        "import torchvision.models as models\n",
        "from tabulate import tabulate\n",
        "from sklearn.model_selection import StratifiedKFold\n",
        "from torch.utils.data import Subset\n",
        "\n",
        "device = torch.device(\"cuda\" if torch.cuda.is_available() else \"cpu\")"
      ],
      "metadata": {
        "_uuid": "8f2839f25d086af736a60e9eeb907d3b93b6e0e5",
        "_cell_guid": "b1076dfc-b9ad-4769-8c92-a6c4dae69d19",
        "execution": {
          "iopub.status.busy": "2025-07-15T14:04:45.250015Z",
          "iopub.execute_input": "2025-07-15T14:04:45.250812Z",
          "iopub.status.idle": "2025-07-15T14:04:45.257091Z",
          "shell.execute_reply.started": "2025-07-15T14:04:45.250778Z",
          "shell.execute_reply": "2025-07-15T14:04:45.256049Z"
        },
        "trusted": true,
        "id": "m-I5OZddbwJW"
      },
      "outputs": [],
      "execution_count": 1
    },
    {
      "cell_type": "code",
      "source": [
        "from google.colab import files\n",
        "files.upload()"
      ],
      "metadata": {
        "trusted": true,
        "colab": {
          "base_uri": "https://localhost:8080/",
          "height": 86
        },
        "id": "SjycCjp4bwJY",
        "outputId": "88b61b99-3ed8-4281-c1f6-6da483f76fe3"
      },
      "outputs": [
        {
          "output_type": "display_data",
          "data": {
            "text/plain": [
              "<IPython.core.display.HTML object>"
            ],
            "text/html": [
              "\n",
              "     <input type=\"file\" id=\"files-ea143bc5-a83a-44c8-91b1-f015fb67b77c\" name=\"files[]\" multiple disabled\n",
              "        style=\"border:none\" />\n",
              "     <output id=\"result-ea143bc5-a83a-44c8-91b1-f015fb67b77c\">\n",
              "      Upload widget is only available when the cell has been executed in the\n",
              "      current browser session. Please rerun this cell to enable.\n",
              "      </output>\n",
              "      <script>// Copyright 2017 Google LLC\n",
              "//\n",
              "// Licensed under the Apache License, Version 2.0 (the \"License\");\n",
              "// you may not use this file except in compliance with the License.\n",
              "// You may obtain a copy of the License at\n",
              "//\n",
              "//      http://www.apache.org/licenses/LICENSE-2.0\n",
              "//\n",
              "// Unless required by applicable law or agreed to in writing, software\n",
              "// distributed under the License is distributed on an \"AS IS\" BASIS,\n",
              "// WITHOUT WARRANTIES OR CONDITIONS OF ANY KIND, either express or implied.\n",
              "// See the License for the specific language governing permissions and\n",
              "// limitations under the License.\n",
              "\n",
              "/**\n",
              " * @fileoverview Helpers for google.colab Python module.\n",
              " */\n",
              "(function(scope) {\n",
              "function span(text, styleAttributes = {}) {\n",
              "  const element = document.createElement('span');\n",
              "  element.textContent = text;\n",
              "  for (const key of Object.keys(styleAttributes)) {\n",
              "    element.style[key] = styleAttributes[key];\n",
              "  }\n",
              "  return element;\n",
              "}\n",
              "\n",
              "// Max number of bytes which will be uploaded at a time.\n",
              "const MAX_PAYLOAD_SIZE = 100 * 1024;\n",
              "\n",
              "function _uploadFiles(inputId, outputId) {\n",
              "  const steps = uploadFilesStep(inputId, outputId);\n",
              "  const outputElement = document.getElementById(outputId);\n",
              "  // Cache steps on the outputElement to make it available for the next call\n",
              "  // to uploadFilesContinue from Python.\n",
              "  outputElement.steps = steps;\n",
              "\n",
              "  return _uploadFilesContinue(outputId);\n",
              "}\n",
              "\n",
              "// This is roughly an async generator (not supported in the browser yet),\n",
              "// where there are multiple asynchronous steps and the Python side is going\n",
              "// to poll for completion of each step.\n",
              "// This uses a Promise to block the python side on completion of each step,\n",
              "// then passes the result of the previous step as the input to the next step.\n",
              "function _uploadFilesContinue(outputId) {\n",
              "  const outputElement = document.getElementById(outputId);\n",
              "  const steps = outputElement.steps;\n",
              "\n",
              "  const next = steps.next(outputElement.lastPromiseValue);\n",
              "  return Promise.resolve(next.value.promise).then((value) => {\n",
              "    // Cache the last promise value to make it available to the next\n",
              "    // step of the generator.\n",
              "    outputElement.lastPromiseValue = value;\n",
              "    return next.value.response;\n",
              "  });\n",
              "}\n",
              "\n",
              "/**\n",
              " * Generator function which is called between each async step of the upload\n",
              " * process.\n",
              " * @param {string} inputId Element ID of the input file picker element.\n",
              " * @param {string} outputId Element ID of the output display.\n",
              " * @return {!Iterable<!Object>} Iterable of next steps.\n",
              " */\n",
              "function* uploadFilesStep(inputId, outputId) {\n",
              "  const inputElement = document.getElementById(inputId);\n",
              "  inputElement.disabled = false;\n",
              "\n",
              "  const outputElement = document.getElementById(outputId);\n",
              "  outputElement.innerHTML = '';\n",
              "\n",
              "  const pickedPromise = new Promise((resolve) => {\n",
              "    inputElement.addEventListener('change', (e) => {\n",
              "      resolve(e.target.files);\n",
              "    });\n",
              "  });\n",
              "\n",
              "  const cancel = document.createElement('button');\n",
              "  inputElement.parentElement.appendChild(cancel);\n",
              "  cancel.textContent = 'Cancel upload';\n",
              "  const cancelPromise = new Promise((resolve) => {\n",
              "    cancel.onclick = () => {\n",
              "      resolve(null);\n",
              "    };\n",
              "  });\n",
              "\n",
              "  // Wait for the user to pick the files.\n",
              "  const files = yield {\n",
              "    promise: Promise.race([pickedPromise, cancelPromise]),\n",
              "    response: {\n",
              "      action: 'starting',\n",
              "    }\n",
              "  };\n",
              "\n",
              "  cancel.remove();\n",
              "\n",
              "  // Disable the input element since further picks are not allowed.\n",
              "  inputElement.disabled = true;\n",
              "\n",
              "  if (!files) {\n",
              "    return {\n",
              "      response: {\n",
              "        action: 'complete',\n",
              "      }\n",
              "    };\n",
              "  }\n",
              "\n",
              "  for (const file of files) {\n",
              "    const li = document.createElement('li');\n",
              "    li.append(span(file.name, {fontWeight: 'bold'}));\n",
              "    li.append(span(\n",
              "        `(${file.type || 'n/a'}) - ${file.size} bytes, ` +\n",
              "        `last modified: ${\n",
              "            file.lastModifiedDate ? file.lastModifiedDate.toLocaleDateString() :\n",
              "                                    'n/a'} - `));\n",
              "    const percent = span('0% done');\n",
              "    li.appendChild(percent);\n",
              "\n",
              "    outputElement.appendChild(li);\n",
              "\n",
              "    const fileDataPromise = new Promise((resolve) => {\n",
              "      const reader = new FileReader();\n",
              "      reader.onload = (e) => {\n",
              "        resolve(e.target.result);\n",
              "      };\n",
              "      reader.readAsArrayBuffer(file);\n",
              "    });\n",
              "    // Wait for the data to be ready.\n",
              "    let fileData = yield {\n",
              "      promise: fileDataPromise,\n",
              "      response: {\n",
              "        action: 'continue',\n",
              "      }\n",
              "    };\n",
              "\n",
              "    // Use a chunked sending to avoid message size limits. See b/62115660.\n",
              "    let position = 0;\n",
              "    do {\n",
              "      const length = Math.min(fileData.byteLength - position, MAX_PAYLOAD_SIZE);\n",
              "      const chunk = new Uint8Array(fileData, position, length);\n",
              "      position += length;\n",
              "\n",
              "      const base64 = btoa(String.fromCharCode.apply(null, chunk));\n",
              "      yield {\n",
              "        response: {\n",
              "          action: 'append',\n",
              "          file: file.name,\n",
              "          data: base64,\n",
              "        },\n",
              "      };\n",
              "\n",
              "      let percentDone = fileData.byteLength === 0 ?\n",
              "          100 :\n",
              "          Math.round((position / fileData.byteLength) * 100);\n",
              "      percent.textContent = `${percentDone}% done`;\n",
              "\n",
              "    } while (position < fileData.byteLength);\n",
              "  }\n",
              "\n",
              "  // All done.\n",
              "  yield {\n",
              "    response: {\n",
              "      action: 'complete',\n",
              "    }\n",
              "  };\n",
              "}\n",
              "\n",
              "scope.google = scope.google || {};\n",
              "scope.google.colab = scope.google.colab || {};\n",
              "scope.google.colab._files = {\n",
              "  _uploadFiles,\n",
              "  _uploadFilesContinue,\n",
              "};\n",
              "})(self);\n",
              "</script> "
            ]
          },
          "metadata": {}
        },
        {
          "output_type": "stream",
          "name": "stdout",
          "text": [
            "Saving kaggle.json to kaggle.json\n"
          ]
        },
        {
          "output_type": "execute_result",
          "data": {
            "text/plain": [
              "{'kaggle.json': b'{\"username\":\"murrmaringo\",\"key\":\"f5b4c058e91c5ba7b8e4346e30cbc810\"}'}"
            ]
          },
          "metadata": {},
          "execution_count": 2
        }
      ],
      "execution_count": 2
    },
    {
      "cell_type": "code",
      "source": [
        "os.makedirs('/root/.kaggle', exist_ok=True)\n",
        "!cp kaggle.json /root/.kaggle/\n",
        "!chmod 600 /root/.kaggle/kaggle.json\n",
        "!pip install -q kaggle\n",
        "\n",
        "!kaggle competitions download -c dog-breed-identification\n",
        "with zipfile.ZipFile(\"dog-breed-identification.zip\", 'r') as zip_ref:\n",
        "    zip_ref.extractall(\"dog-breed-identification\")"
      ],
      "metadata": {
        "trusted": true,
        "execution": {
          "iopub.status.busy": "2025-07-15T14:04:47.219826Z",
          "iopub.execute_input": "2025-07-15T14:04:47.220190Z",
          "iopub.status.idle": "2025-07-15T14:04:59.236201Z",
          "shell.execute_reply.started": "2025-07-15T14:04:47.220161Z",
          "shell.execute_reply": "2025-07-15T14:04:59.235035Z"
        },
        "colab": {
          "base_uri": "https://localhost:8080/"
        },
        "id": "KUNVs724bwJY",
        "outputId": "3a00b41c-ad13-435d-cd2f-7a4df33e7f4b"
      },
      "outputs": [
        {
          "output_type": "stream",
          "name": "stdout",
          "text": [
            "Downloading dog-breed-identification.zip to /content\n",
            " 99% 684M/691M [00:01<00:00, 271MB/s]\n",
            "100% 691M/691M [00:01<00:00, 371MB/s]\n"
          ]
        }
      ],
      "execution_count": 3
    },
    {
      "cell_type": "code",
      "source": [
        "from sklearn.model_selection import train_test_split\n",
        "\n",
        "labels = pd.read_csv('dog-breed-identification/labels.csv')\n",
        "\n",
        "breeds = labels['breed'].unique()\n",
        "breed_to_idx = {breed: idx for idx, breed in enumerate(breeds)}\n",
        "idx_to_breed = {idx: breed for idx, breed in enumerate(breeds)}\n",
        "\n",
        "# Add numerical labels\n",
        "labels['label'] = labels['breed'].map(breed_to_idx)\n",
        "train_df, valid_df = train_test_split(\n",
        "    labels,\n",
        "    train_size=0.8,\n",
        "    shuffle=True,\n",
        "    stratify=labels['breed'],\n",
        "    random_state=42\n",
        ")"
      ],
      "metadata": {
        "trusted": true,
        "execution": {
          "iopub.status.busy": "2025-07-15T14:02:43.820073Z",
          "iopub.execute_input": "2025-07-15T14:02:43.820364Z",
          "iopub.status.idle": "2025-07-15T14:02:43.924896Z",
          "shell.execute_reply.started": "2025-07-15T14:02:43.820339Z",
          "shell.execute_reply": "2025-07-15T14:02:43.923321Z"
        },
        "id": "GAxLpiHdbwJY"
      },
      "outputs": [],
      "execution_count": 4
    },
    {
      "cell_type": "code",
      "source": [
        "train_transform = transforms.Compose([\n",
        "    transforms.RandomResizedCrop(224),\n",
        "    transforms.RandomHorizontalFlip(),\n",
        "    transforms.RandomRotation(15),\n",
        "    transforms.ToTensor(),\n",
        "    transforms.Normalize([0.485, 0.456, 0.406], [0.229, 0.224, 0.225])\n",
        "])\n",
        "\n",
        "val_transform = transforms.Compose([\n",
        "    transforms.RandomResizedCrop(224),\n",
        "    transforms.ToTensor(),\n",
        "    transforms.Normalize([0.485, 0.456, 0.406], [0.229, 0.224, 0.225])\n",
        "])"
      ],
      "metadata": {
        "trusted": true,
        "execution": {
          "iopub.status.busy": "2025-07-15T14:02:43.925693Z",
          "iopub.status.idle": "2025-07-15T14:02:43.926018Z",
          "shell.execute_reply.started": "2025-07-15T14:02:43.925855Z",
          "shell.execute_reply": "2025-07-15T14:02:43.925868Z"
        },
        "id": "PW6Jsi39bwJZ"
      },
      "outputs": [],
      "execution_count": 5
    },
    {
      "cell_type": "code",
      "source": [
        "class DogBreedDataset(Dataset):\n",
        "    def __init__(self, dataframe, root_dir, transform=None):\n",
        "        self.labels_df = dataframe\n",
        "        self.root_dir = root_dir\n",
        "        self.transform = transform\n",
        "\n",
        "    def __len__(self):\n",
        "        return len(self.labels_df)\n",
        "    def __getitem__(self, idx):\n",
        "        if torch.is_tensor(idx):\n",
        "            idx = idx.tolist()\n",
        "\n",
        "        img_name = os.path.join(self.root_dir, self.labels_df.iloc[idx, 0] + '.jpg')\n",
        "        image = Image.open(img_name).convert('RGB')\n",
        "        label = self.labels_df.iloc[idx, -1]\n",
        "\n",
        "        if self.transform:\n",
        "            image = self.transform(image)\n",
        "\n",
        "        return image, label\n",
        "\n",
        "train_dataset = DogBreedDataset(\n",
        "    dataframe=train_df,\n",
        "    root_dir='dog-breed-identification/train',\n",
        "    transform=train_transform\n",
        ")\n",
        "\n",
        "valid_dataset = DogBreedDataset(\n",
        "    dataframe=valid_df,\n",
        "    root_dir='dog-breed-identification/train',\n",
        "    transform=val_transform\n",
        ")\n",
        "\n",
        "batch_size = 32\n",
        "\n",
        "train_loader = DataLoader(\n",
        "    train_dataset,\n",
        "    batch_size=batch_size,\n",
        "    shuffle=True,\n",
        "    num_workers=4\n",
        ")\n",
        "\n",
        "val_loader = DataLoader(\n",
        "    valid_dataset,\n",
        "    batch_size=batch_size,\n",
        "    shuffle=False,\n",
        "    num_workers=4\n",
        ")"
      ],
      "metadata": {
        "trusted": true,
        "execution": {
          "iopub.status.busy": "2025-07-15T14:02:43.927071Z",
          "iopub.status.idle": "2025-07-15T14:02:43.927359Z",
          "shell.execute_reply.started": "2025-07-15T14:02:43.927221Z",
          "shell.execute_reply": "2025-07-15T14:02:43.927236Z"
        },
        "colab": {
          "base_uri": "https://localhost:8080/"
        },
        "id": "2z2L9u_SbwJZ",
        "outputId": "a51d5493-212b-4639-91ce-a1e8f9e029fd"
      },
      "outputs": [
        {
          "output_type": "stream",
          "name": "stderr",
          "text": [
            "/usr/local/lib/python3.11/dist-packages/torch/utils/data/dataloader.py:624: UserWarning: This DataLoader will create 4 worker processes in total. Our suggested max number of worker in current system is 2, which is smaller than what this DataLoader is going to create. Please be aware that excessive worker creation might get DataLoader running slow or even freeze, lower the worker number to avoid potential slowness/freeze if necessary.\n",
            "  warnings.warn(\n"
          ]
        }
      ],
      "execution_count": 6
    },
    {
      "cell_type": "code",
      "source": [
        "n_classes = 120\n",
        "\n",
        "\n",
        "criterion = nn.CrossEntropyLoss()"
      ],
      "metadata": {
        "trusted": true,
        "execution": {
          "iopub.status.busy": "2025-07-15T14:02:43.928486Z",
          "iopub.status.idle": "2025-07-15T14:02:43.928748Z",
          "shell.execute_reply.started": "2025-07-15T14:02:43.928624Z",
          "shell.execute_reply": "2025-07-15T14:02:43.928635Z"
        },
        "id": "D9NswYbWbwJZ"
      },
      "outputs": [],
      "execution_count": 7
    },
    {
      "cell_type": "code",
      "source": [
        "class BasicBlockNet(nn.Module):\n",
        "    def __init__(self):\n",
        "        super().__init__()\n",
        "\n",
        "        # Convolutional layers\n",
        "        self.conv1 = nn.Conv2d(3, 32, kernel_size=3, stride=1, padding=1)\n",
        "        self.bn1 = nn.BatchNorm2d(32)\n",
        "\n",
        "        self.conv2 = nn.Conv2d(32, 64, kernel_size=3, stride=2, padding=1)\n",
        "        self.bn2 = nn.BatchNorm2d(64)\n",
        "\n",
        "        self.conv3 = nn.Conv2d(64, 128, kernel_size=3, stride=2, padding=1)\n",
        "        self.bn3 = nn.BatchNorm2d(128)\n",
        "\n",
        "        self.avg_pool = nn.AdaptiveAvgPool2d((4, 4))\n",
        "\n",
        "        self.lin1 = nn.Linear(128 * 4 * 4, n_classes)  # 128 channels * 4*4 from pooling\n",
        "\n",
        "    def forward(self, x):\n",
        "        x = F.relu(self.bn1(self.conv1(x)))\n",
        "        x = F.relu(self.bn2(self.conv2(x)))\n",
        "        x = F.relu(self.bn3(self.conv3(x)))\n",
        "\n",
        "        x = self.avg_pool(x)\n",
        "        x = x.view(x.size(0), -1)  # Flatten\n",
        "        out = self.lin1(x)\n",
        "\n",
        "        return out"
      ],
      "metadata": {
        "trusted": true,
        "execution": {
          "iopub.status.busy": "2025-07-15T14:02:43.929685Z",
          "iopub.status.idle": "2025-07-15T14:02:43.929963Z",
          "shell.execute_reply.started": "2025-07-15T14:02:43.929830Z",
          "shell.execute_reply": "2025-07-15T14:02:43.929842Z"
        },
        "id": "HGFYHcfJbwJZ"
      },
      "outputs": [],
      "execution_count": 8
    },
    {
      "cell_type": "code",
      "source": [
        "net = BasicBlockNet().to(device)\n",
        "\n",
        "def test(model, loader):\n",
        "    loss_log = []\n",
        "    acc_log = []\n",
        "    model.eval()\n",
        "\n",
        "    with torch.no_grad():\n",
        "        for data, target in loader:\n",
        "            data, target = data.to(device), target.to(device)\n",
        "            loss_fn = nn.CrossEntropyLoss()\n",
        "            output = model(data)\n",
        "            loss = loss_fn(output, target)\n",
        "\n",
        "            loss_log.append(loss.item())\n",
        "\n",
        "            preds = output.argmax(dim=1)\n",
        "            acc = (preds == target).float().mean()\n",
        "            acc_log.append(acc.item())\n",
        "\n",
        "        return np.mean(loss_log), np.mean(acc_log)\n",
        "\n",
        "def train_epoch(model, optimizer, train_loader):\n",
        "    loss_log = []\n",
        "    acc_log = []\n",
        "    model.train()\n",
        "\n",
        "    for data, target in train_loader:\n",
        "\n",
        "        data, target = data.to(device), target.to(device)\n",
        "        loss_fn = nn.CrossEntropyLoss()\n",
        "\n",
        "        optimizer.zero_grad()\n",
        "\n",
        "        output = model(data)\n",
        "\n",
        "        loss = loss_fn(output, target)\n",
        "        loss.backward()\n",
        "        optimizer.step()\n",
        "\n",
        "        loss_log.append(loss.item())\n",
        "\n",
        "        preds = output.argmax(dim=1)\n",
        "        acc = (preds == target).float().mean()\n",
        "        acc_log.append(acc.item())\n",
        "\n",
        "    return loss_log, acc_log\n",
        "\n",
        "def train(model, optimizer, n_epochs, train_loader, val_loader, scheduler=None):\n",
        "    train_loss_log, train_acc_log, val_loss_log, val_acc_log = [], [], [], []\n",
        "\n",
        "    for epoch in range(n_epochs):\n",
        "        train_loss, train_acc = train_epoch(model, optimizer, train_loader)\n",
        "        val_loss, val_acc = test(model, val_loader)\n",
        "\n",
        "        train_loss_log.extend(train_loss)\n",
        "        train_acc_log.extend(train_acc)\n",
        "\n",
        "        val_loss_log.append(val_loss)\n",
        "        val_acc_log.append(val_acc)\n",
        "\n",
        "        print(f\"Epoch {epoch}\")\n",
        "        print(f\" train loss: {np.mean(train_loss)}, train acc: {np.mean(train_acc)}\")\n",
        "        print(f\" val loss: {val_loss}, val acc: {val_acc}\\n\")\n",
        "\n",
        "        if scheduler is not None:\n",
        "            scheduler.step()\n",
        "\n",
        "    return train_loss_log, train_acc_log, val_loss_log, val_acc_log"
      ],
      "metadata": {
        "trusted": true,
        "execution": {
          "iopub.status.busy": "2025-07-15T14:02:43.931214Z",
          "iopub.status.idle": "2025-07-15T14:02:43.931559Z",
          "shell.execute_reply.started": "2025-07-15T14:02:43.931416Z",
          "shell.execute_reply": "2025-07-15T14:02:43.931429Z"
        },
        "id": "LqBAwAt3bwJZ"
      },
      "outputs": [],
      "execution_count": 9
    },
    {
      "cell_type": "code",
      "source": [
        "import torch.nn.functional as F\n",
        "\n",
        "optimizer = torch.optim.SGD(net.parameters(), lr=0.1, momentum=0.9)\n",
        "train_loss_log, train_acc_log, val_loss_log, val_acc_log = train(net, optimizer, 20, train_loader, val_loader)"
      ],
      "metadata": {
        "trusted": true,
        "execution": {
          "iopub.status.busy": "2025-07-15T14:02:43.933217Z",
          "iopub.status.idle": "2025-07-15T14:02:43.933481Z",
          "shell.execute_reply.started": "2025-07-15T14:02:43.933356Z",
          "shell.execute_reply": "2025-07-15T14:02:43.933367Z"
        },
        "colab": {
          "base_uri": "https://localhost:8080/"
        },
        "id": "KRWMOF7-bwJa",
        "outputId": "5d123d05-4aeb-4976-e2aa-f8b8e4e9abcc"
      },
      "outputs": [
        {
          "output_type": "stream",
          "name": "stdout",
          "text": [
            "Epoch 0\n",
            " train loss: 4.878618823364377, train acc: 0.0113525390625\n",
            " val loss: 4.735812082886696, val acc: 0.016163793101441115\n",
            "\n",
            "Epoch 1\n",
            " train loss: 4.732528334483504, train acc: 0.0174416934751207\n",
            " val loss: 4.726931571960449, val acc: 0.015625\n",
            "\n",
            "Epoch 2\n",
            " train loss: 4.695352049544454, train acc: 0.020263671875\n",
            " val loss: 4.70764497667551, val acc: 0.02685546875\n",
            "\n",
            "Epoch 3\n",
            " train loss: 4.64138925075531, train acc: 0.0253762637876207\n",
            " val loss: 4.659614033997059, val acc: 0.02549164870288223\n",
            "\n",
            "Epoch 4\n",
            " train loss: 4.623343113809824, train acc: 0.0292825137876207\n",
            " val loss: 4.604124873876572, val acc: 0.02685546875\n",
            "\n",
            "Epoch 5\n",
            " train loss: 4.579483900219202, train acc: 0.0316018497251207\n",
            " val loss: 4.573637880384922, val acc: 0.02734375\n",
            "\n",
            "Epoch 6\n",
            " train loss: 4.551852496340871, train acc: 0.03515625\n",
            " val loss: 4.587441615760326, val acc: 0.0390625\n",
            "\n",
            "Epoch 7\n",
            " train loss: 4.5588672664016485, train acc: 0.0364990234375\n",
            " val loss: 4.629680536687374, val acc: 0.0283203125\n",
            "\n",
            "Epoch 8\n",
            " train loss: 4.545954434201121, train acc: 0.0364846622251207\n",
            " val loss: 4.591430366039276, val acc: 0.029347386851441115\n",
            "\n",
            "Epoch 9\n",
            " train loss: 4.545493980869651, train acc: 0.03759765625\n",
            " val loss: 4.594626791775227, val acc: 0.040577855601441115\n",
            "\n",
            "Epoch 10\n",
            " train loss: 4.517062267288566, train acc: 0.0438088809751207\n",
            " val loss: 4.610356643795967, val acc: 0.03466796875\n",
            "\n",
            "Epoch 11\n",
            " train loss: 4.500953374430537, train acc: 0.0435791015625\n",
            " val loss: 4.6160105392336845, val acc: 0.039601293101441115\n",
            "\n",
            "Epoch 12\n",
            " train loss: 4.500167492777109, train acc: 0.0443115234375\n",
            " val loss: 4.572379872202873, val acc: 0.038624730601441115\n",
            "\n",
            "Epoch 13\n",
            " train loss: 4.506867760792375, train acc: 0.0413818359375\n",
            " val loss: 4.558911316096783, val acc: 0.03369140625\n",
            "\n",
            "Epoch 14\n",
            " train loss: 4.493569301441312, train acc: 0.042236328125\n",
            " val loss: 4.59224858134985, val acc: 0.037159886851441115\n",
            "\n",
            "Epoch 15\n",
            " train loss: 4.519372254610062, train acc: 0.041748046875\n",
            " val loss: 4.605936497449875, val acc: 0.0322265625\n",
            "\n",
            "Epoch 16\n",
            " train loss: 4.5066813714802265, train acc: 0.0418557559751207\n",
            " val loss: 4.527772307395935, val acc: 0.037648168101441115\n",
            "\n",
            "Epoch 17\n",
            " train loss: 4.4949576035141945, train acc: 0.0406494140625\n",
            " val loss: 4.577697813510895, val acc: 0.0341796875\n",
            "\n",
            "Epoch 18\n",
            " train loss: 4.487513944506645, train acc: 0.0420998966001207\n",
            " val loss: 4.512435182929039, val acc: 0.03662109375\n",
            "\n",
            "Epoch 19\n",
            " train loss: 4.4725167490541935, train acc: 0.0467529296875\n",
            " val loss: 4.547692455351353, val acc: 0.04150390625\n",
            "\n"
          ]
        }
      ],
      "execution_count": 10
    },
    {
      "cell_type": "code",
      "source": [
        "def calc_accuracy(model, dataloader):\n",
        "    y_pred = []\n",
        "    y_test = []\n",
        "    loss_sum = 0\n",
        "    loss_fn = nn.CrossEntropyLoss()\n",
        "    with torch.no_grad():\n",
        "        for X, target in dataloader:\n",
        "            X = X.cuda()\n",
        "            target = target.cuda()\n",
        "            logits = model(X)\n",
        "            loss_sum += loss_fn(logits, target)\n",
        "            y_pred.append(logits.argmax(dim=1))\n",
        "            y_test.append(target)\n",
        "        y_pred = torch.cat(y_pred)\n",
        "        y_test = torch.cat(y_test)\n",
        "    accuracy = torch.sum((y_pred == y_test)) / len(y_test)\n",
        "    return accuracy, loss_sum.item(), y_pred, y_test"
      ],
      "metadata": {
        "trusted": true,
        "execution": {
          "iopub.status.busy": "2025-07-15T14:02:43.934134Z",
          "iopub.status.idle": "2025-07-15T14:02:43.934409Z",
          "shell.execute_reply.started": "2025-07-15T14:02:43.934275Z",
          "shell.execute_reply": "2025-07-15T14:02:43.934287Z"
        },
        "id": "QdJQBcZVbwJa"
      },
      "outputs": [],
      "execution_count": 14
    },
    {
      "cell_type": "code",
      "source": [
        "accuracy, _, y_pred, y_test = calc_accuracy(net, val_loader)"
      ],
      "metadata": {
        "trusted": true,
        "execution": {
          "iopub.status.busy": "2025-07-15T14:02:43.936177Z",
          "iopub.status.idle": "2025-07-15T14:02:43.936590Z",
          "shell.execute_reply.started": "2025-07-15T14:02:43.936369Z",
          "shell.execute_reply": "2025-07-15T14:02:43.936386Z"
        },
        "id": "LQMqpthkbwJa"
      },
      "outputs": [],
      "execution_count": 15
    },
    {
      "cell_type": "code",
      "source": [
        "print(accuracy)"
      ],
      "metadata": {
        "trusted": true,
        "execution": {
          "iopub.status.busy": "2025-07-15T14:02:43.937449Z",
          "iopub.status.idle": "2025-07-15T14:02:43.937710Z",
          "shell.execute_reply.started": "2025-07-15T14:02:43.937581Z",
          "shell.execute_reply": "2025-07-15T14:02:43.937592Z"
        },
        "colab": {
          "base_uri": "https://localhost:8080/"
        },
        "id": "T5WFWlhwbwJa",
        "outputId": "b78a3c40-04ad-43d7-c672-6e3430a4c987"
      },
      "outputs": [
        {
          "output_type": "stream",
          "name": "stdout",
          "text": [
            "tensor(0.0479, device='cuda:0')\n"
          ]
        }
      ],
      "execution_count": 16
    },
    {
      "cell_type": "code",
      "source": [
        "from tqdm import tqdm\n",
        "\n",
        "def create_submission(model, test_dir, transform, device, breed_names):\n",
        "    test_files = os.listdir(test_dir)\n",
        "    model.eval()\n",
        "\n",
        "    all_preds = []\n",
        "    test_ids = []\n",
        "\n",
        "    for file in tqdm(test_files, desc=\"Processing Test Images\"):\n",
        "        img_path = os.path.join(test_dir, file)\n",
        "        image = Image.open(img_path).convert('RGB')\n",
        "        image = transform(image).unsqueeze(0).to(device)\n",
        "\n",
        "        with torch.no_grad():\n",
        "            output = model(image)\n",
        "            probas = F.softmax(output, dim=1).cpu().numpy()[0]\n",
        "\n",
        "        all_preds.append(probas)\n",
        "        test_ids.append(file.split('.')[0])\n",
        "\n",
        "    submission = pd.DataFrame(\n",
        "        np.vstack(all_preds),\n",
        "        columns=breed_names\n",
        "    )\n",
        "    submission.insert(0, 'id', test_ids)\n",
        "\n",
        "    return submission\n",
        "\n",
        "# Generate submission file\n",
        "test_dir = 'dog-breed-identification/test'\n",
        "breed_names = idx_to_breed.values()\n",
        "submission = create_submission(net, test_dir, val_transform, device, breed_names)\n",
        "\n",
        "submission.to_csv('submission.csv', index=False)\n",
        "print(\"Submission file created successfully!\")"
      ],
      "metadata": {
        "colab": {
          "base_uri": "https://localhost:8080/"
        },
        "id": "haoyVvQc52x5",
        "outputId": "fbf0628a-f1f4-4e0f-da7d-d2a656158986"
      },
      "execution_count": 18,
      "outputs": [
        {
          "output_type": "stream",
          "name": "stderr",
          "text": [
            "Processing Test Images: 100%|██████████| 10357/10357 [00:48<00:00, 213.84it/s]\n"
          ]
        },
        {
          "output_type": "stream",
          "name": "stdout",
          "text": [
            "Submission file created successfully!\n"
          ]
        }
      ]
    },
    {
      "cell_type": "code",
      "source": [],
      "metadata": {
        "id": "65iRmzjL6BsJ"
      },
      "execution_count": null,
      "outputs": []
    }
  ]
}